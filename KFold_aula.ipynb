{
 "cells": [
  {
   "cell_type": "markdown",
   "id": "0f308f36-3972-4eb3-aa1b-6216e7e04828",
   "metadata": {},
   "source": [
    "Importação das bibliotecas"
   ]
  },
  {
   "cell_type": "code",
   "execution_count": 1,
   "id": "1d4dd855-4fb2-4858-a687-ec72a9c16f45",
   "metadata": {},
   "outputs": [],
   "source": [
    "import keras \n",
    "import numpy as np\n",
    "import tensorflow as tf\n",
    "import sklearn "
   ]
  },
  {
   "cell_type": "code",
   "execution_count": 2,
   "id": "2b5ade71-b3ca-40fb-8d2f-08e8001d473d",
   "metadata": {},
   "outputs": [],
   "source": [
    "from tensorflow.keras.datasets import mnist\n",
    "from tensorflow.keras.models import Sequential\n",
    "from tensorflow.keras.layers import InputLayer, Dense, Flatten, Dropout, Conv2D, MaxPooling2D, BatchNormalization\n",
    "from tensorflow.keras import utils as np_utils\n",
    "from sklearn.model_selection import StratifiedKFold"
   ]
  },
  {
   "cell_type": "markdown",
   "id": "d87a7b04-b019-4fe7-9281-283fb2738af3",
   "metadata": {},
   "source": [
    "Carregamento da base de dados e o tratamento dos dados"
   ]
  },
  {
   "cell_type": "code",
   "execution_count": 5,
   "id": "3545ba6c-742c-4f08-ae6a-00161098f2ee",
   "metadata": {},
   "outputs": [],
   "source": [
    "(X,y), (X_teste, y_teste) = mnist.load_data()\n",
    "X = X.reshape(X.shape[0], 28, 28, 1)\n",
    "X = X.astype('float32')\n",
    "X /= 255\n",
    "y= np_utils.to_categorical(y,10)"
   ]
  },
  {
   "cell_type": "markdown",
   "id": "b056dcfd-9b7d-46c9-ac32-b761971d0300",
   "metadata": {},
   "source": [
    "Manter os aleatorios sempre os mesmos"
   ]
  },
  {
   "cell_type": "code",
   "execution_count": 7,
   "id": "86db62dc-35a3-4490-a105-06c2f562306c",
   "metadata": {},
   "outputs": [],
   "source": [
    "seed = 5\n",
    "np.random.seed(seed)"
   ]
  },
  {
   "cell_type": "markdown",
   "id": "dc59fa50-b6a4-4358-b3cf-9a81bca6cad5",
   "metadata": {},
   "source": [
    "Criação do kFold"
   ]
  },
  {
   "cell_type": "code",
   "execution_count": 8,
   "id": "5fb94f6d-58cb-4498-bb53-fc088c1c6104",
   "metadata": {},
   "outputs": [],
   "source": [
    "kFold = StratifiedKFold(n_splits = 5, shuffle=True, random_state = seed)"
   ]
  },
  {
   "cell_type": "markdown",
   "id": "67740e4f-e631-4c25-b5ac-841c063435b5",
   "metadata": {},
   "source": [
    "Aplicação do kFold, 5 testes de 5 classificadores com bases de treinamento diferentes"
   ]
  },
  {
   "cell_type": "code",
   "execution_count": 18,
   "id": "fb79c559-ff51-4dbf-a10a-fb3ab06e9726",
   "metadata": {},
   "outputs": [
    {
     "name": "stdout",
     "output_type": "stream",
     "text": [
      "Indices treinamento:  [    0     1     2 ... 59997 59998 59999] Indice teste: [    5     7    10 ... 59983 59985 59993]\n",
      "Epoch 1/5\n",
      "\u001b[1m375/375\u001b[0m \u001b[32m━━━━━━━━━━━━━━━━━━━━\u001b[0m\u001b[37m\u001b[0m \u001b[1m27s\u001b[0m 67ms/step - accuracy: 0.8917 - loss: 0.3675\n",
      "Epoch 2/5\n",
      "\u001b[1m375/375\u001b[0m \u001b[32m━━━━━━━━━━━━━━━━━━━━\u001b[0m\u001b[37m\u001b[0m \u001b[1m37s\u001b[0m 56ms/step - accuracy: 0.9873 - loss: 0.0414\n",
      "Epoch 3/5\n",
      "\u001b[1m375/375\u001b[0m \u001b[32m━━━━━━━━━━━━━━━━━━━━\u001b[0m\u001b[37m\u001b[0m \u001b[1m41s\u001b[0m 55ms/step - accuracy: 0.9946 - loss: 0.0181\n",
      "Epoch 4/5\n",
      "\u001b[1m375/375\u001b[0m \u001b[32m━━━━━━━━━━━━━━━━━━━━\u001b[0m\u001b[37m\u001b[0m \u001b[1m22s\u001b[0m 58ms/step - accuracy: 0.9972 - loss: 0.0099\n",
      "Epoch 5/5\n",
      "\u001b[1m375/375\u001b[0m \u001b[32m━━━━━━━━━━━━━━━━━━━━\u001b[0m\u001b[37m\u001b[0m \u001b[1m18s\u001b[0m 49ms/step - accuracy: 0.9977 - loss: 0.0068\n",
      "\u001b[1m375/375\u001b[0m \u001b[32m━━━━━━━━━━━━━━━━━━━━\u001b[0m\u001b[37m\u001b[0m \u001b[1m1s\u001b[0m 3ms/step - accuracy: 0.9816 - loss: 0.0734\n",
      "Indices treinamento:  [    1     2     5 ... 59995 59996 59999] Indice teste: [    0     3     4 ... 59989 59997 59998]\n",
      "Epoch 1/5\n",
      "\u001b[1m375/375\u001b[0m \u001b[32m━━━━━━━━━━━━━━━━━━━━\u001b[0m\u001b[37m\u001b[0m \u001b[1m19s\u001b[0m 47ms/step - accuracy: 0.8945 - loss: 0.3483\n",
      "Epoch 2/5\n",
      "\u001b[1m375/375\u001b[0m \u001b[32m━━━━━━━━━━━━━━━━━━━━\u001b[0m\u001b[37m\u001b[0m \u001b[1m21s\u001b[0m 47ms/step - accuracy: 0.9858 - loss: 0.0462\n",
      "Epoch 3/5\n",
      "\u001b[1m375/375\u001b[0m \u001b[32m━━━━━━━━━━━━━━━━━━━━\u001b[0m\u001b[37m\u001b[0m \u001b[1m18s\u001b[0m 48ms/step - accuracy: 0.9934 - loss: 0.0210\n",
      "Epoch 4/5\n",
      "\u001b[1m375/375\u001b[0m \u001b[32m━━━━━━━━━━━━━━━━━━━━\u001b[0m\u001b[37m\u001b[0m \u001b[1m19s\u001b[0m 51ms/step - accuracy: 0.9961 - loss: 0.0115\n",
      "Epoch 5/5\n",
      "\u001b[1m375/375\u001b[0m \u001b[32m━━━━━━━━━━━━━━━━━━━━\u001b[0m\u001b[37m\u001b[0m \u001b[1m23s\u001b[0m 60ms/step - accuracy: 0.9976 - loss: 0.0078\n",
      "\u001b[1m375/375\u001b[0m \u001b[32m━━━━━━━━━━━━━━━━━━━━\u001b[0m\u001b[37m\u001b[0m \u001b[1m2s\u001b[0m 4ms/step - accuracy: 0.9860 - loss: 0.0656\n",
      "Indices treinamento:  [    0     1     3 ... 59996 59997 59998] Indice teste: [    2    27    33 ... 59991 59995 59999]\n",
      "Epoch 1/5\n",
      "\u001b[1m375/375\u001b[0m \u001b[32m━━━━━━━━━━━━━━━━━━━━\u001b[0m\u001b[37m\u001b[0m \u001b[1m20s\u001b[0m 49ms/step - accuracy: 0.8917 - loss: 0.3602\n",
      "Epoch 2/5\n",
      "\u001b[1m375/375\u001b[0m \u001b[32m━━━━━━━━━━━━━━━━━━━━\u001b[0m\u001b[37m\u001b[0m \u001b[1m23s\u001b[0m 56ms/step - accuracy: 0.9874 - loss: 0.0430\n",
      "Epoch 3/5\n",
      "\u001b[1m375/375\u001b[0m \u001b[32m━━━━━━━━━━━━━━━━━━━━\u001b[0m\u001b[37m\u001b[0m \u001b[1m18s\u001b[0m 49ms/step - accuracy: 0.9926 - loss: 0.0213\n",
      "Epoch 4/5\n",
      "\u001b[1m375/375\u001b[0m \u001b[32m━━━━━━━━━━━━━━━━━━━━\u001b[0m\u001b[37m\u001b[0m \u001b[1m17s\u001b[0m 45ms/step - accuracy: 0.9967 - loss: 0.0113\n",
      "Epoch 5/5\n",
      "\u001b[1m375/375\u001b[0m \u001b[32m━━━━━━━━━━━━━━━━━━━━\u001b[0m\u001b[37m\u001b[0m \u001b[1m19s\u001b[0m 51ms/step - accuracy: 0.9972 - loss: 0.0087\n",
      "\u001b[1m375/375\u001b[0m \u001b[32m━━━━━━━━━━━━━━━━━━━━\u001b[0m\u001b[37m\u001b[0m \u001b[1m2s\u001b[0m 4ms/step - accuracy: 0.9839 - loss: 0.0703\n",
      "Indices treinamento:  [    0     2     3 ... 59997 59998 59999] Indice teste: [    1     6     9 ... 59967 59975 59977]\n",
      "Epoch 1/5\n",
      "\u001b[1m375/375\u001b[0m \u001b[32m━━━━━━━━━━━━━━━━━━━━\u001b[0m\u001b[37m\u001b[0m \u001b[1m21s\u001b[0m 51ms/step - accuracy: 0.8792 - loss: 0.4202\n",
      "Epoch 2/5\n",
      "\u001b[1m375/375\u001b[0m \u001b[32m━━━━━━━━━━━━━━━━━━━━\u001b[0m\u001b[37m\u001b[0m \u001b[1m19s\u001b[0m 48ms/step - accuracy: 0.9856 - loss: 0.0473\n",
      "Epoch 3/5\n",
      "\u001b[1m375/375\u001b[0m \u001b[32m━━━━━━━━━━━━━━━━━━━━\u001b[0m\u001b[37m\u001b[0m \u001b[1m18s\u001b[0m 49ms/step - accuracy: 0.9929 - loss: 0.0237\n",
      "Epoch 4/5\n",
      "\u001b[1m375/375\u001b[0m \u001b[32m━━━━━━━━━━━━━━━━━━━━\u001b[0m\u001b[37m\u001b[0m \u001b[1m19s\u001b[0m 52ms/step - accuracy: 0.9954 - loss: 0.0138\n",
      "Epoch 5/5\n",
      "\u001b[1m375/375\u001b[0m \u001b[32m━━━━━━━━━━━━━━━━━━━━\u001b[0m\u001b[37m\u001b[0m \u001b[1m21s\u001b[0m 55ms/step - accuracy: 0.9969 - loss: 0.0097\n",
      "\u001b[1m375/375\u001b[0m \u001b[32m━━━━━━━━━━━━━━━━━━━━\u001b[0m\u001b[37m\u001b[0m \u001b[1m2s\u001b[0m 4ms/step - accuracy: 0.9837 - loss: 0.0676\n",
      "Indices treinamento:  [    0     1     2 ... 59997 59998 59999] Indice teste: [   12    16    53 ... 59992 59994 59996]\n",
      "Epoch 1/5\n",
      "\u001b[1m375/375\u001b[0m \u001b[32m━━━━━━━━━━━━━━━━━━━━\u001b[0m\u001b[37m\u001b[0m \u001b[1m19s\u001b[0m 47ms/step - accuracy: 0.9004 - loss: 0.3472\n",
      "Epoch 2/5\n",
      "\u001b[1m375/375\u001b[0m \u001b[32m━━━━━━━━━━━━━━━━━━━━\u001b[0m\u001b[37m\u001b[0m \u001b[1m20s\u001b[0m 46ms/step - accuracy: 0.9859 - loss: 0.0424\n",
      "Epoch 3/5\n",
      "\u001b[1m375/375\u001b[0m \u001b[32m━━━━━━━━━━━━━━━━━━━━\u001b[0m\u001b[37m\u001b[0m \u001b[1m16s\u001b[0m 43ms/step - accuracy: 0.9932 - loss: 0.0199\n",
      "Epoch 4/5\n",
      "\u001b[1m375/375\u001b[0m \u001b[32m━━━━━━━━━━━━━━━━━━━━\u001b[0m\u001b[37m\u001b[0m \u001b[1m21s\u001b[0m 44ms/step - accuracy: 0.9953 - loss: 0.0142\n",
      "Epoch 5/5\n",
      "\u001b[1m375/375\u001b[0m \u001b[32m━━━━━━━━━━━━━━━━━━━━\u001b[0m\u001b[37m\u001b[0m \u001b[1m17s\u001b[0m 44ms/step - accuracy: 0.9984 - loss: 0.0066\n",
      "\u001b[1m375/375\u001b[0m \u001b[32m━━━━━━━━━━━━━━━━━━━━\u001b[0m\u001b[37m\u001b[0m \u001b[1m2s\u001b[0m 5ms/step - accuracy: 0.9817 - loss: 0.0709\n"
     ]
    }
   ],
   "source": [
    "resultados = []\n",
    "for indice_treinamento, indice_teste, in kFold.split(X, np.zeros(shape=(y.shape[0], 1))):\n",
    "    print(\"Indices treinamento: \", indice_treinamento, \"Indice teste:\", indice_teste)\n",
    "    classificador = Sequential()\n",
    "    classificador.add(InputLayer(shape = [28,28,1]))\n",
    "    classificador.add(Conv2D(filters = 32, kernel_size = (3,3), activation = 'relu'))\n",
    "    classificador.add(BatchNormalization())\n",
    "    classificador.add(MaxPooling2D(pool_size = (2,2)))\n",
    "    classificador.add(Flatten())\n",
    "    classificador.add(Dense(units = 128, activation = 'relu'))\n",
    "    classificador.add(Dense(units = 10, activation = 'softmax'))\n",
    "    classificador.compile(loss='categorical_crossentropy',optimizer='adam',metrics=['accuracy'])\n",
    "    classificador.fit(X[indice_treinamento], y[indice_treinamento], batch_size = 128, epochs = 5)\n",
    "    precisao = classificador.evaluate(X[indice_teste], y[indice_teste])\n",
    "    resultados.append(precisao[1])    "
   ]
  },
  {
   "cell_type": "code",
   "execution_count": 19,
   "id": "40c7f279-662e-46c5-9f50-3f1325284278",
   "metadata": {},
   "outputs": [
    {
     "data": {
      "text/plain": [
       "[0.9822499752044678,\n",
       " 0.9830833077430725,\n",
       " 0.984666645526886,\n",
       " 0.984083354473114,\n",
       " 0.9823333621025085]"
      ]
     },
     "execution_count": 19,
     "metadata": {},
     "output_type": "execute_result"
    }
   ],
   "source": [
    "resultados"
   ]
  },
  {
   "cell_type": "markdown",
   "id": "c289cc81-b95e-4b5c-ab9e-0084c54245c8",
   "metadata": {},
   "source": [
    "Média dos resultados"
   ]
  },
  {
   "cell_type": "code",
   "execution_count": 22,
   "id": "36dbb739-b1ca-4a05-adcb-78621667a699",
   "metadata": {},
   "outputs": [
    {
     "data": {
      "text/plain": [
       "0.9832833290100098"
      ]
     },
     "execution_count": 22,
     "metadata": {},
     "output_type": "execute_result"
    }
   ],
   "source": [
    "np.array(resultados).mean()"
   ]
  },
  {
   "cell_type": "markdown",
   "id": "9bd22194-ec10-4861-96f4-7b929d88b0ce",
   "metadata": {},
   "source": [
    "Desvio médio dos resultados, mostrando que o algoritmo está bem conciso."
   ]
  },
  {
   "cell_type": "code",
   "execution_count": 23,
   "id": "5248d765-528b-47cd-931c-c40318a45d66",
   "metadata": {},
   "outputs": [
    {
     "data": {
      "text/plain": [
       "0.0009553921757561616"
      ]
     },
     "execution_count": 23,
     "metadata": {},
     "output_type": "execute_result"
    }
   ],
   "source": [
    "np.array(resultados).std()"
   ]
  }
 ],
 "metadata": {
  "kernelspec": {
   "display_name": "Python 3 (ipykernel)",
   "language": "python",
   "name": "python3"
  },
  "language_info": {
   "codemirror_mode": {
    "name": "ipython",
    "version": 3
   },
   "file_extension": ".py",
   "mimetype": "text/x-python",
   "name": "python",
   "nbconvert_exporter": "python",
   "pygments_lexer": "ipython3",
   "version": "3.12.3"
  }
 },
 "nbformat": 4,
 "nbformat_minor": 5
}

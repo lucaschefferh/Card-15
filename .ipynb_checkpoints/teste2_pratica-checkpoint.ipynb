{
 "cells": [
  {
   "cell_type": "code",
   "execution_count": 2,
   "id": "af74ae26-4572-4935-969a-d4d11c38e294",
   "metadata": {},
   "outputs": [],
   "source": [
    "import keras\n",
    "import tensorflow as tf\n",
    "import numpy as np\n",
    "from tensorflow.keras.datasets import cifar10\n",
    "from tensorflow.keras.models import Sequential\n",
    "from tensorflow.keras.layers import InputLayer, Dense, Flatten, Dropout, Conv2D, MaxPooling2D, BatchNormalization\n",
    "from tensorflow.keras import utils as np_utils\n",
    "import matplotlib.pyplot as plt"
   ]
  },
  {
   "cell_type": "code",
   "execution_count": 4,
   "id": "17873ff7-1716-4364-acbc-8b6b25657295",
   "metadata": {},
   "outputs": [
    {
     "name": "stdout",
     "output_type": "stream",
     "text": [
      "Downloading data from https://www.cs.toronto.edu/~kriz/cifar-10-python.tar.gz\n",
      "\u001b[1m170498071/170498071\u001b[0m \u001b[32m━━━━━━━━━━━━━━━━━━━━\u001b[0m\u001b[37m\u001b[0m \u001b[1m15s\u001b[0m 0us/step\n"
     ]
    }
   ],
   "source": [
    "(X_treinamento, y_treinamento), (X_teste, y_teste) = cifar10.load_data()"
   ]
  },
  {
   "cell_type": "code",
   "execution_count": 12,
   "id": "bb61092f-b21e-4b7d-b08a-ac8d326d4e36",
   "metadata": {},
   "outputs": [
    {
     "data": {
      "text/plain": [
       "(50000, 32, 32, 3)"
      ]
     },
     "execution_count": 12,
     "metadata": {},
     "output_type": "execute_result"
    }
   ],
   "source": [
    "X_treinamento.shape"
   ]
  },
  {
   "cell_type": "code",
   "execution_count": 16,
   "id": "6e474e04-21e1-41a3-a827-59faba4fe6ae",
   "metadata": {},
   "outputs": [
    {
     "data": {
      "image/png": "[encoded data removed]",
      "text/plain": [
       "<Figure size 640x480 with 1 Axes>"
      ]
     },
     "metadata": {},
     "output_type": "display_data"
    }
   ],
   "source": [
    "plt.imshow(X_treinamento[3])\n",
    "plt.show()"
   ]
  },
  {
   "cell_type": "code",
   "execution_count": 23,
   "id": "0aa1fd15-7f25-4ad9-af6f-2cae30f30f73",
   "metadata": {},
   "outputs": [],
   "source": [
    "X_treinamento = X_treinamento.astype('float32')\n",
    "X_teste = X_teste.astype('float32')"
   ]
  },
  {
   "cell_type": "code",
   "execution_count": 24,
   "id": "06aecbac-094f-4cba-989f-3953856024c3",
   "metadata": {},
   "outputs": [],
   "source": [
    "X_treinamento /= 255\n",
    "X_teste /= 255"
   ]
  },
  {
   "cell_type": "code",
   "execution_count": 40,
   "id": "97b9c8a4-a07e-41cc-992b-86de9bb5b209",
   "metadata": {},
   "outputs": [],
   "source": [
    "y_treinamento = np_utils.to_categorical(y_treinamento, 10)\n",
    "y_teste = np_utils.to_categorical(y_teste, 10)"
   ]
  },
  {
   "cell_type": "code",
   "execution_count": 41,
   "id": "3b52c591-efa8-4adf-a46d-3049779fa903",
   "metadata": {},
   "outputs": [],
   "source": [
    "rede = Sequential()\n",
    "rede.add(InputLayer(shape = [32,32,3])) #camdad de entrada de acordo com o shape da base de dados\n",
    "\n",
    "rede.add(Conv2D(filters=64, kernel_size(5,5), activation = 'relu')) #camada de convolução\n",
    "rede.add(BatchNormalization()) #evita overfitting\n",
    "\n",
    "rede.add(Conv2D(filters=32, kernel_size(3,3), activation='relu'))\n",
    "rede.add(BatchNormalization())\n",
    "\n",
    "rede.add(MaxPooling2D(pool_size = (2,2)) #diminiuir as dimensões\n",
    "\n",
    "rede.add(Flatten()) #transformar de matriz em array\n",
    "\n",
    "rede.add(Dense(units=128, activation = 'relu'))\n",
    "rede.add(Dropout(0.2))\n"
   ]
  }
 ],
 "metadata": {
  "kernelspec": {
   "display_name": "Python 3 (ipykernel)",
   "language": "python",
   "name": "python3"
  },
  "language_info": {
   "codemirror_mode": {
    "name": "ipython",
    "version": 3
   },
   "file_extension": ".py",
   "mimetype": "text/x-python",
   "name": "python",
   "nbconvert_exporter": "python",
   "pygments_lexer": "ipython3",
   "version": "3.12.3"
  }
 },
 "nbformat": 4,
 "nbformat_minor": 5
}

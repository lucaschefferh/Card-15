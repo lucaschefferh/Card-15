{
 "cells": [
  {
   "cell_type": "code",
   "execution_count": 1,
   "id": "1d4dd855-4fb2-4858-a687-ec72a9c16f45",
   "metadata": {},
   "outputs": [],
   "source": [
    "import keras \n",
    "import numpy as np\n",
    "import tensorflow as tf\n",
    "import sklearn "
   ]
  },
  {
   "cell_type": "code",
   "execution_count": 2,
   "id": "2b5ade71-b3ca-40fb-8d2f-08e8001d473d",
   "metadata": {},
   "outputs": [],
   "source": [
    "from tensorflow.keras.datasets import mnist\n",
    "from tensorflow.keras.models import Sequential\n",
    "from tensorflow.keras.layers import InputLayer, Dense, Flatten, Dropout, Conv2D, MaxPooling2D, BatchNormalization\n",
    "from tensorflow.keras import utils as np_utils\n",
    "from sklearn.model_selection import StratifiedKFold"
   ]
  },
  {
   "cell_type": "code",
   "execution_count": 5,
   "id": "3545ba6c-742c-4f08-ae6a-00161098f2ee",
   "metadata": {},
   "outputs": [],
   "source": [
    "(X,y), (X_teste, y_teste) = mnist.load_data()\n",
    "X = X.reshape(X.shape[0], 28, 28, 1)\n",
    "X = X.astype('float32')\n",
    "X /= 255\n",
    "y= np_utils.to_categorical(y,10)"
   ]
  },
  {
   "cell_type": "code",
   "execution_count": 7,
   "id": "86db62dc-35a3-4490-a105-06c2f562306c",
   "metadata": {},
   "outputs": [],
   "source": [
    "seed = 5\n",
    "np.random.seed(seed)"
   ]
  },
  {
   "cell_type": "code",
   "execution_count": 8,
   "id": "5fb94f6d-58cb-4498-bb53-fc088c1c6104",
   "metadata": {},
   "outputs": [],
   "source": [
    "kFold = StratifiedKFold(n_splits = 5, shuffle=True, random_state = seed)"
   ]
  },
  {
   "cell_type": "code",
   "execution_count": 12,
   "id": "fb79c559-ff51-4dbf-a10a-fb3ab06e9726",
   "metadata": {},
   "outputs": [
    {
     "name": "stdout",
     "output_type": "stream",
     "text": [
      "Indices treinamento:  [    0     1     2 ... 59997 59998 59999] Indice teste: [    5     7    10 ... 59983 59985 59993]\n",
      "Indices treinamento:  [    1     2     5 ... 59995 59996 59999] Indice teste: [    0     3     4 ... 59989 59997 59998]\n",
      "Indices treinamento:  [    0     1     3 ... 59996 59997 59998] Indice teste: [    2    27    33 ... 59991 59995 59999]\n",
      "Indices treinamento:  [    0     2     3 ... 59997 59998 59999] Indice teste: [    1     6     9 ... 59967 59975 59977]\n",
      "Indices treinamento:  [    0     1     2 ... 59997 59998 59999] Indice teste: [   12    16    53 ... 59992 59994 59996]\n"
     ]
    }
   ],
   "source": [
    "resultado = []\n",
    "for indice_treinamento, indice_teste, in kFold.split(X, np.zeros(shape=(y.shape[0], 1))):\n",
    "    print(\"Indices treinamento: \", indice_treinamento, \"Indice teste:\", indice_teste)\n",
    "    classificador = Sequential()\n",
    "    classificador.add(InputLayer(shape = [28,28,1]))\n",
    "    classificador.add(Conv2D(filters = 32, kernel_size = (3,3), activation = 'relu'))\n",
    "    classificador.add(BatchNormalization())\n",
    "    classificador.add(MaxPooling2D(pool_size = (2,2)))\n",
    "    classificador.add(Flatten())\n",
    "    classificador.add(Dense(units = 128, activation = 'relu'))\n",
    "    classificador.add(Dense(units = 10, activation = 'softmax'))\n",
    "    "
   ]
  }
 ],
 "metadata": {
  "kernelspec": {
   "display_name": "Python 3 (ipykernel)",
   "language": "python",
   "name": "python3"
  },
  "language_info": {
   "codemirror_mode": {
    "name": "ipython",
    "version": 3
   },
   "file_extension": ".py",
   "mimetype": "text/x-python",
   "name": "python",
   "nbconvert_exporter": "python",
   "pygments_lexer": "ipython3",
   "version": "3.12.3"
  }
 },
 "nbformat": 4,
 "nbformat_minor": 5
}
